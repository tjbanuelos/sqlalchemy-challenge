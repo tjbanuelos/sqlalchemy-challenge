%matplotlib inline
from matplotlib import style
style.use('fivethirtyeight')
import matplotlib.pyplot as plt



import numpy as np
import pandas as pd
import datetime as dt






# Python SQL toolkit and Object Relational Mapper
import sqlalchemy
from sqlalchemy.ext.automap import automap_base
from sqlalchemy.orm import Session
from sqlalchemy import create_engine, func



# Create engine using the `hawaii.sqlite` database file
engine = create_engine("sqlite:///Resources/hawaii.sqlite")



# Declare a Base using `automap_base()`

# Use the Base class to reflect the database tables



# Print all of the classes mapped to the Base



# Assign the measurement class to a variable called `Measurement` and
# the station class to a variable called `Station`



# Create a session






# Find the most recent date in the data set.



# Design a query to retrieve the last 12 months of precipitation data and plot the results.
# Starting from the most recent data point in the database.

# Calculate the date one year from the last date in data set.


# Perform a query to retrieve the data and precipitation scores


# Save the query results as a Pandas DataFrame. Explicitly set the column names


# Sort the dataframe by date


# Use Pandas Plotting with Matplotlib to plot the data



# Use Pandas to calculate the summary statistics for the precipitation data






# Design a query to calculate the total number of stations in the dataset



# Design a query to find the most active stations (i.e. which stations have the most rows?)
# List the stations and their counts in descending order.



# Using the most active station id from the previous query, calculate the lowest, highest, and average temperature.



# Using the most active station id
# Query the last 12 months of temperature observation data for this station and plot the results as a histogram






# Close Session
session.close()




